{
 "cells": [
  {
   "cell_type": "markdown",
   "id": "7dc6435f",
   "metadata": {},
   "source": [
    "# Análise de Estatística Descritiva dos Dados do Brasileirão"
   ]
  },
  {
   "cell_type": "markdown",
   "id": "91680a58",
   "metadata": {},
   "source": [
    "## 01 - Setup"
   ]
  },
  {
   "cell_type": "code",
   "execution_count": 9,
   "id": "b38247b4",
   "metadata": {},
   "outputs": [],
   "source": [
    "def get_separador() -> str:\n",
    "  sistema_operacional = platform.system()\n",
    "  separador = \"\"\n",
    "\n",
    "  if sistema_operacional == \"Windows\":\n",
    "    separador = \"\\\\\"\n",
    "  elif sistema_operacional == \"Linux\":\n",
    "    separador = \"/\"\n",
    "  \n",
    "  return separador\n",
    "\n",
    "# Importação das bibliotecas\n",
    "import pandas as pd\n",
    "import platform\n",
    "import os\n",
    "\n",
    "# Pegando o arquivo .csv do dataset\n",
    "separador = get_separador()\n",
    "caminho_atual = os.getcwd()\n",
    "caminho_dataset = os.path.join(caminho_atual, f\"..{separador}dataset{separador}brasileirao.csv\")\n",
    "\n",
    "# Este dataset foi baixado contendo os dados de jogos ocorridos até o dia 13/05/2025\n",
    "brasileirao = pd.read_csv(caminho_dataset)"
   ]
  },
  {
   "cell_type": "markdown",
   "id": "7a19f889",
   "metadata": {},
   "source": [
    "## 02 - Análises"
   ]
  },
  {
   "cell_type": "code",
   "execution_count": null,
   "id": "7bb52417",
   "metadata": {},
   "outputs": [
    {
     "name": "stdout",
     "output_type": "stream",
     "text": [
      "{2016, 2017, 2018, 2019, 2020, 2021, 2022, 2023, 2024, 2025, 2012, 2013, 2014, 2015}\n"
     ]
    }
   ],
   "source": [
    "print(set(brasileirao.Season))"
   ]
  }
 ],
 "metadata": {
  "kernelspec": {
   "display_name": "venv",
   "language": "python",
   "name": "venv"
  },
  "language_info": {
   "codemirror_mode": {
    "name": "ipython",
    "version": 3
   },
   "file_extension": ".py",
   "mimetype": "text/x-python",
   "name": "python",
   "nbconvert_exporter": "python",
   "pygments_lexer": "ipython3",
   "version": "3.12.3"
  }
 },
 "nbformat": 4,
 "nbformat_minor": 5
}
