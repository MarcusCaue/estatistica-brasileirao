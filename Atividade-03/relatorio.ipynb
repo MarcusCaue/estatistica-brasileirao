{
 "cells": [
  {
   "cell_type": "markdown",
   "id": "7dc6435f",
   "metadata": {},
   "source": [
    "# Análise de Estatística Descritiva dos Dados do Brasileirão"
   ]
  },
  {
   "cell_type": "markdown",
   "id": "91680a58",
   "metadata": {},
   "source": [
    "## 01 - Setup"
   ]
  },
  {
   "cell_type": "code",
   "execution_count": 19,
   "id": "b38247b4",
   "metadata": {},
   "outputs": [],
   "source": [
    "def get_separador() -> str:\n",
    "  sistema_operacional = platform.system()\n",
    "  separador = \"\"\n",
    "\n",
    "  if sistema_operacional == \"Windows\":\n",
    "    separador = \"\\\\\"\n",
    "  elif sistema_operacional == \"Linux\":\n",
    "    separador = \"/\"\n",
    "  \n",
    "  return separador\n",
    "\n",
    "# Importação das bibliotecas\n",
    "import pandas as pd\n",
    "import platform\n",
    "import os\n",
    "\n",
    "# Pegando o arquivo .csv do dataset\n",
    "separador = get_separador()\n",
    "caminho_atual = os.getcwd()\n",
    "caminho_dataset = os.path.join(caminho_atual, f\"..{separador}dataset{separador}brasileirao.csv\")\n",
    "\n",
    "# Este dataset foi baixado contendo os dados de jogos ocorridos até o dia 13/05/2025\n",
    "brasileirao = pd.read_csv(caminho_dataset)"
   ]
  },
  {
   "cell_type": "markdown",
   "id": "7a19f889",
   "metadata": {},
   "source": [
    "## 02 - Análises"
   ]
  },
  {
   "cell_type": "markdown",
   "id": "47ce9167",
   "metadata": {},
   "source": [
    "### 02.1 - Desempenho médio de cada time por temporada"
   ]
  },
  {
   "cell_type": "markdown",
   "id": "6c716622",
   "metadata": {},
   "source": [
    "Crie tabelas, cujas linhas são os _times_, as colunas são as _temporadas_ e a variável em análise é a _quantidade de pontos_, para as seguintes informações:\n",
    "  - Média\n",
    "  - Mediana\n",
    "  - Desvio Padrão\n",
    "  - Máximo\n",
    "  - Mínimo\n",
    "\n",
    "Destaque o ano com maior variação\n",
    "\n",
    "Numa disputa entre dois times:\n",
    "  - Em caso de vitória, o vencedor ganha 3 pontos.\n",
    "  - Em caso de empate, ambos ganham 1 ponto."
   ]
  },
  {
   "cell_type": "code",
   "execution_count": null,
   "id": "00c4b6b6",
   "metadata": {},
   "outputs": [
    {
     "name": "stdout",
     "output_type": "stream",
     "text": [
      "42\n",
      "0\n",
      "54\n",
      "55\n",
      "53\n"
     ]
    }
   ],
   "source": [
    "def verifica_presenca_time(time: str, temporada: int) -> bool:\n",
    "  jogos_time_temporada = brasileirao[\n",
    "    (brasileirao[\"Season\"] == temporada) &\n",
    "    (brasileirao[\"Home\"] == time)\n",
    "  ]\n",
    "\n",
    "  return not (jogos_time_temporada.empty)\n",
    "\n",
    "def calcula_pontos_time(time: str, temporada: int) -> int:\n",
    "\n",
    "  if not verifica_presenca_time(time, temporada):\n",
    "    return 0\n",
    "  \n",
    "  jogos_time_temporada = brasileirao[\n",
    "    (brasileirao[\"Season\"] == temporada) &\n",
    "    ((brasileirao[\"Home\"] == time) | (brasileirao[\"Away\"] == time))\n",
    "  ]\n",
    "\n",
    "  vitorias_casa = jogos_time_temporada[\n",
    "    (jogos_time_temporada[\"Home\"] == time) & \n",
    "    (jogos_time_temporada[\"Res\"] == \"H\")\n",
    "  ]\n",
    "\n",
    "  vitorias_visitante = jogos_time_temporada[\n",
    "    (jogos_time_temporada[\"Away\"] == time) & \n",
    "    (jogos_time_temporada[\"Res\"] == \"A\")\n",
    "  ]\n",
    "\n",
    "  empates = jogos_time_temporada[(jogos_time_temporada[\"Res\"] == \"D\")]\n",
    "\n",
    "  total_pontos = ((len(vitorias_casa) + len(vitorias_visitante)) * 3) + (len(empates) * 1)\n",
    "\n",
    "  return total_pontos\n",
    "\n"
   ]
  }
 ],
 "metadata": {
  "kernelspec": {
   "display_name": "venv",
   "language": "python",
   "name": "venv"
  },
  "language_info": {
   "codemirror_mode": {
    "name": "ipython",
    "version": 3
   },
   "file_extension": ".py",
   "mimetype": "text/x-python",
   "name": "python",
   "nbconvert_exporter": "python",
   "pygments_lexer": "ipython3",
   "version": "3.12.3"
  }
 },
 "nbformat": 4,
 "nbformat_minor": 5
}
